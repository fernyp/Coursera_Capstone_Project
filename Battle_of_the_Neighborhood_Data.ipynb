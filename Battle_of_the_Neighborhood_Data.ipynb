{
    "nbformat_minor": 1, 
    "cells": [
        {
            "source": "# Silicon Valley Rent Segmentation", 
            "cell_type": "markdown", 
            "metadata": {
                "collapsed": true
            }
        }, 
        {
            "source": "## Introduction", 
            "cell_type": "markdown", 
            "metadata": {}
        }, 
        {
            "source": "The Silicon Valley is one of the world's hub for technology and innovation. From long time companies like Intel and Hewlett-Packard, social media giants like Google, Facebook and Twitter to a plethora of startups - the Silicon Valley attracts high-skilled workers from all over the world.\n\nWhen there is an influx of workforce into a region, the cost of living begins to increase. The Silicon Valley is currently going through a 'housing crisis' - with housing prices skyrocketing, affordability is a major issue. For someone moving to the Silicon Valley for a new job, buying a home might far from reach. The other option is finding a place to rent.", 
            "cell_type": "markdown", 
            "metadata": {}
        }, 
        {
            "source": "## Business Problem", 
            "cell_type": "markdown", 
            "metadata": {}
        }, 
        {
            "source": "In this study, we will be looking at how median rent for a two-bedroom apartment varies within each zip code of the Santa Clara County. For those who are new and moving to the area, it is best to know where the house rents are relatively low but also closer to social venues like restaurants, theatres, malls, parks, etc. This analysis plans to address this issue.", 
            "cell_type": "markdown", 
            "metadata": {}
        }, 
        {
            "source": "## Data Requirement and Collection", 
            "cell_type": "markdown", 
            "metadata": {}
        }, 
        {
            "source": "#### 1. A list of zip codes within the Santa Clara County\nThis data was scrapped from Santa Clara County Public Health website: https://www.sccgov.org/sites/phd/hi/hd/Pages/city-profiles.aspx\n#### 2. Median rent for Santa Clara County by Zip code\nThis data was scrapped from a real estate search website: https://www.zillow.com/santa-clara-county-ca/home-values/\n#### 3. Geo Locator for geographical coordinates of the county\nImporting Nominatim to get the coordinates for Santa Clara County \n#### 4. List of venues in each neighborhood\nA list of venues in each neighborhood will be pulled from Foursquare API\n#### 5. Map generation\nUsing Folium to generate maps in Python", 
            "cell_type": "markdown", 
            "metadata": {}
        }, 
        {
            "execution_count": null, 
            "cell_type": "code", 
            "metadata": {}, 
            "outputs": [], 
            "source": ""
        }
    ], 
    "metadata": {
        "kernelspec": {
            "display_name": "Python 3.6", 
            "name": "python3", 
            "language": "python"
        }, 
        "language_info": {
            "mimetype": "text/x-python", 
            "nbconvert_exporter": "python", 
            "version": "3.6.8", 
            "name": "python", 
            "file_extension": ".py", 
            "pygments_lexer": "ipython3", 
            "codemirror_mode": {
                "version": 3, 
                "name": "ipython"
            }
        }
    }, 
    "nbformat": 4
}