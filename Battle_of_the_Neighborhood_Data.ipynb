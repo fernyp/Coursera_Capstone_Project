{
    "nbformat_minor": 1, 
    "cells": [
        {
            "source": "# Silicon Valley Rent Segmentation", 
            "cell_type": "markdown", 
            "metadata": {
                "collapsed": true
            }
        }, 
        {
            "source": "## Introduction", 
            "cell_type": "markdown", 
            "metadata": {}
        }, 
        {
            "source": "The Silicon Valley is one of the world's hub for technology and innovation. From long time companies like Intel and Hewlett-Packard, social media giants like Google, Facebook and Twitter to a plethora of startups - the Silicon Valley attracts high-skilled workers from all over the world.\n\nWhen there is an influx of workforce into a region, the cost of living begins to increase. The Silicon Valley is currently going through a 'housing crisis' - with housing prices skyrocketing, affordability is a major issue. For someone moving to the Silicon Valley for a new job, buying a home might far from reach. The other option is finding a place to rent.", 
            "cell_type": "markdown", 
            "metadata": {}
        }, 
        {
            "source": "## Business Problem", 
            "cell_type": "markdown", 
            "metadata": {}
        }, 
        {
            "source": "In this study, we will be looking at how median rent for a two-bedroom apartment varies within each zip code of the Santa Clara County. For those who are new and moving to the area, it is best to know where the house rents are relatively low but also closer to social venues like restaurants, theatres, malls, parks, etc. This analysis plans to address this issue.", 
            "cell_type": "markdown", 
            "metadata": {}
        }, 
        {
            "source": "## Data Requirement and Collection", 
            "cell_type": "markdown", 
            "metadata": {}
        }, 
        {
            "source": "For this study I chose to divide Santa Clara county by zip code (since neighborhood were too small in size and cities with too big in size). Once I have the relevant zip codes for the respective regions in the county I need to merge the data with the median rent for a two-bedroom apartment. Further using Geocoder, find the coordinates for each zip code region and form this into a data set. Finally I will need data about the different venues in each region to help cluster similar regions. I will use Foursquare API to gather this information.\n\nOnce the data has been colected and processed, one should be able to view of a map with similar venue categories overlayed over a choropleth showing the median rent of that region.\n\n**For example**, you can look for regions with Mexican restaurants and gyms in the neighborhood and comapre what the median rent in those regions are (this is a hypothetical example prior to running the code).\n\n### The following data must be collected:\n#### 1. A list of zip codes within the Santa Clara County\n*I was able to scrap data from Santa Clara County Public Health website: https://www.sccgov.org/sites/phd/hi/hd/Pages/city-profiles.aspx. This provided a list of cities and neighborhoods within Santa Clara County along with zipcodes*\n#### 2. Median rent for Santa Clara County by Zip code\n*This data was scrapped from a real estate search website: https://www.zillow.com/santa-clara-county-ca/home-values/. This website provides the most upto date data on housing prices and rents. I was able to scrap the data for 2019 median rent for each zip code in the county.*\n#### 3. Geo Locator for geographical coordinates of the county\n*Importing Geocoder library to get the coordinates for Santa Clara County*\n#### 4. List of venues in each neighborhood\n*A list of venues in each neighborhood will be pulled from Foursquare API*\n#### 5. Map generation\n*Using Folium to generate maps in Python. In order to plot a choropleth a json file of Santa Clara county was obtained from https://geo.nyu.edu/catalog/stanford-qb712rn3742*\n", 
            "cell_type": "markdown", 
            "metadata": {}
        }, 
        {
            "source": "## Importing Libraries", 
            "cell_type": "markdown", 
            "metadata": {}
        }, 
        {
            "execution_count": 2, 
            "cell_type": "code", 
            "metadata": {}, 
            "outputs": [
                {
                    "output_type": "stream", 
                    "name": "stdout", 
                    "text": "Solving environment: done\n\n## Package Plan ##\n\n  environment location: /opt/conda/envs/Python36\n\n  added / updated specs: \n    - geopy\n\n\nThe following packages will be downloaded:\n\n    package                    |            build\n    ---------------------------|-----------------\n    geopy-1.20.0               |             py_0          57 KB  conda-forge\n    certifi-2019.9.11          |           py36_0         147 KB  conda-forge\n    ca-certificates-2019.9.11  |       hecc5488_0         144 KB  conda-forge\n    geographiclib-1.50         |             py_0          34 KB  conda-forge\n    openssl-1.1.1c             |       h516909a_0         2.1 MB  conda-forge\n    ------------------------------------------------------------\n                                           Total:         2.5 MB\n\nThe following NEW packages will be INSTALLED:\n\n    geographiclib:   1.50-py_0         conda-forge\n    geopy:           1.20.0-py_0       conda-forge\n\nThe following packages will be UPDATED:\n\n    ca-certificates: 2019.8.28-0                   --> 2019.9.11-hecc5488_0 conda-forge\n    certifi:         2019.9.11-py36_0              --> 2019.9.11-py36_0     conda-forge\n\nThe following packages will be DOWNGRADED:\n\n    openssl:         1.1.1d-h7b6447c_2             --> 1.1.1c-h516909a_0    conda-forge\n\n\nDownloading and Extracting Packages\ngeopy-1.20.0         | 57 KB     | ##################################### | 100% \ncertifi-2019.9.11    | 147 KB    | ##################################### | 100% \nca-certificates-2019 | 144 KB    | ##################################### | 100% \ngeographiclib-1.50   | 34 KB     | ##################################### | 100% \nopenssl-1.1.1c       | 2.1 MB    | ##################################### | 100% \nPreparing transaction: done\nVerifying transaction: done\nExecuting transaction: done\nSolving environment: done\n\n## Package Plan ##\n\n  environment location: /opt/conda/envs/Python36\n\n  added / updated specs: \n    - folium=0.5.0\n\n\nThe following packages will be downloaded:\n\n    package                    |            build\n    ---------------------------|-----------------\n    altair-3.2.0               |           py36_0         770 KB  conda-forge\n    branca-0.3.1               |             py_0          25 KB  conda-forge\n    folium-0.5.0               |             py_0          45 KB  conda-forge\n    vincent-0.4.4              |             py_1          28 KB  conda-forge\n    ------------------------------------------------------------\n                                           Total:         868 KB\n\nThe following NEW packages will be INSTALLED:\n\n    altair:  3.2.0-py36_0 conda-forge\n    branca:  0.3.1-py_0   conda-forge\n    folium:  0.5.0-py_0   conda-forge\n    vincent: 0.4.4-py_1   conda-forge\n\n\nDownloading and Extracting Packages\naltair-3.2.0         | 770 KB    | ##################################### | 100% \nbranca-0.3.1         | 25 KB     | ##################################### | 100% \nfolium-0.5.0         | 45 KB     | ##################################### | 100% \nvincent-0.4.4        | 28 KB     | ##################################### | 100% \nPreparing transaction: done\nVerifying transaction: done\nExecuting transaction: done\nLibraries imported.\n"
                }
            ], 
            "source": "import numpy as np # library to handle data in a vectorized manner\n\nimport pandas as pd # library for data analsysis\npd.set_option('display.max_columns', None)\npd.set_option('display.max_rows', None)\n\nimport json # library to handle JSON files\n\n!conda install -c conda-forge geopy --yes # uncomment this line if you haven't completed the Foursquare API lab\nfrom geopy.geocoders import Nominatim # convert an address into latitude and longitude values\n\nimport requests # library to handle requests\nfrom pandas.io.json import json_normalize # tranform JSON file into a pandas dataframe\n\n# Matplotlib and associated plotting modules\nimport matplotlib.cm as cm\nimport matplotlib.colors as colors\n\n# import k-means from clustering stage\nfrom sklearn.cluster import KMeans\n\n!conda install -c conda-forge folium=0.5.0 --yes # uncomment this line if you haven't completed the Foursquare API lab\nimport folium # map rendering library\n\nprint('Libraries imported.')"
        }, 
        {
            "execution_count": 3, 
            "cell_type": "code", 
            "metadata": {}, 
            "outputs": [], 
            "source": "# The code was removed by Watson Studio for sharing."
        }, 
        {
            "source": "## Importing Dataset as pandas", 
            "cell_type": "markdown", 
            "metadata": {}
        }, 
        {
            "execution_count": 16, 
            "cell_type": "code", 
            "metadata": {}, 
            "outputs": [
                {
                    "execution_count": 16, 
                    "metadata": {}, 
                    "data": {
                        "text/html": "<div>\n<style scoped>\n    .dataframe tbody tr th:only-of-type {\n        vertical-align: middle;\n    }\n\n    .dataframe tbody tr th {\n        vertical-align: top;\n    }\n\n    .dataframe thead th {\n        text-align: right;\n    }\n</style>\n<table border=\"1\" class=\"dataframe\">\n  <thead>\n    <tr style=\"text-align: right;\">\n      <th></th>\n      <th>Zip Code</th>\n      <th>Type</th>\n      <th>Single family Home</th>\n      <th>Rent</th>\n    </tr>\n  </thead>\n  <tbody>\n    <tr>\n      <th>0</th>\n      <td>94022.0</td>\n      <td>Los Altos</td>\n      <td>$2,140,800</td>\n      <td>$4,397</td>\n    </tr>\n    <tr>\n      <th>1</th>\n      <td>94024.0</td>\n      <td>Los Altos</td>\n      <td>$2,632,500</td>\n      <td>$3,710</td>\n    </tr>\n    <tr>\n      <th>2</th>\n      <td>94028.0</td>\n      <td>Los Altos</td>\n      <td>$1,976,800</td>\n      <td>$5,241</td>\n    </tr>\n    <tr>\n      <th>3</th>\n      <td>94040.0</td>\n      <td>Mountain View</td>\n      <td>$1,084,500</td>\n      <td>$3,761</td>\n    </tr>\n    <tr>\n      <th>4</th>\n      <td>94041.0</td>\n      <td>Mountain View</td>\n      <td>$1,615,500</td>\n      <td>$3,665</td>\n    </tr>\n  </tbody>\n</table>\n</div>", 
                        "text/plain": "   Zip Code           Type Single family Home    Rent\n0   94022.0      Los Altos         $2,140,800  $4,397\n1   94024.0      Los Altos         $2,632,500  $3,710\n2   94028.0      Los Altos         $1,976,800  $5,241\n3   94040.0  Mountain View         $1,084,500  $3,761\n4   94041.0  Mountain View         $1,615,500  $3,665"
                    }, 
                    "output_type": "execute_result"
                }
            ], 
            "source": "body = client_8ba116acdcca4616a4acef841eb821f1.get_object(Bucket='capstoneproject-donotdelete-pr-gec6h5x5axg3n2',Key='Santa Clara County Rents.csv')['Body']\n# add missing __iter__ method, so pandas accepts body as file-like object\nif not hasattr(body, \"__iter__\"): body.__iter__ = types.MethodType( __iter__, body )\n\ndf_data = pd.read_csv(body)\ndf_data.head()"
        }, 
        {
            "source": "## Pre-processing the data", 
            "cell_type": "markdown", 
            "metadata": {}
        }, 
        {
            "execution_count": 17, 
            "cell_type": "code", 
            "metadata": {}, 
            "outputs": [
                {
                    "execution_count": 17, 
                    "metadata": {}, 
                    "data": {
                        "text/html": "<div>\n<style scoped>\n    .dataframe tbody tr th:only-of-type {\n        vertical-align: middle;\n    }\n\n    .dataframe tbody tr th {\n        vertical-align: top;\n    }\n\n    .dataframe thead th {\n        text-align: right;\n    }\n</style>\n<table border=\"1\" class=\"dataframe\">\n  <thead>\n    <tr style=\"text-align: right;\">\n      <th></th>\n      <th>Zip Code</th>\n      <th>City</th>\n      <th>Rent</th>\n    </tr>\n  </thead>\n  <tbody>\n    <tr>\n      <th>0</th>\n      <td>94022</td>\n      <td>Los Altos</td>\n      <td>4397</td>\n    </tr>\n    <tr>\n      <th>1</th>\n      <td>94024</td>\n      <td>Los Altos</td>\n      <td>3710</td>\n    </tr>\n    <tr>\n      <th>2</th>\n      <td>94028</td>\n      <td>Los Altos</td>\n      <td>5241</td>\n    </tr>\n    <tr>\n      <th>3</th>\n      <td>94040</td>\n      <td>Mountain View</td>\n      <td>3761</td>\n    </tr>\n    <tr>\n      <th>4</th>\n      <td>94041</td>\n      <td>Mountain View</td>\n      <td>3665</td>\n    </tr>\n  </tbody>\n</table>\n</div>", 
                        "text/plain": "   Zip Code           City  Rent\n0     94022      Los Altos  4397\n1     94024      Los Altos  3710\n2     94028      Los Altos  5241\n3     94040  Mountain View  3761\n4     94041  Mountain View  3665"
                    }, 
                    "output_type": "execute_result"
                }
            ], 
            "source": "df_data.dropna(axis=0, inplace=True)\ndf_data['Zip Code'] = df_data['Zip Code'].astype(int)\ndf_data.rename(columns={'Type':'City'}, inplace=True)\ndf_data.drop(columns='Single family Home', axis=1, inplace=True)\ndf_data['Rent']=df_data['Rent'].str.replace('$','')\ndf_data['Rent']=df_data['Rent'].str.replace(',','')\ndf_data['Rent']=df_data['Rent'].astype(int)\ndf_data.head()"
        }, 
        {
            "source": "## Get Geographical Coordinates", 
            "cell_type": "markdown", 
            "metadata": {}
        }, 
        {
            "execution_count": 27, 
            "cell_type": "code", 
            "metadata": {}, 
            "outputs": [
                {
                    "output_type": "stream", 
                    "name": "stdout", 
                    "text": "Requirement already satisfied: geocoder in /opt/conda/envs/Python36/lib/python3.6/site-packages (1.38.1)\nRequirement already satisfied: ratelim in /opt/conda/envs/Python36/lib/python3.6/site-packages (from geocoder) (0.1.6)\nRequirement already satisfied: requests in /opt/conda/envs/Python36/lib/python3.6/site-packages (from geocoder) (2.21.0)\nRequirement already satisfied: click in /opt/conda/envs/Python36/lib/python3.6/site-packages (from geocoder) (7.0)\nRequirement already satisfied: future in /opt/conda/envs/Python36/lib/python3.6/site-packages (from geocoder) (0.17.1)\nRequirement already satisfied: six in /opt/conda/envs/Python36/lib/python3.6/site-packages (from geocoder) (1.12.0)\nRequirement already satisfied: decorator in /opt/conda/envs/Python36/lib/python3.6/site-packages (from ratelim->geocoder) (4.3.2)\nRequirement already satisfied: idna<2.9,>=2.5 in /opt/conda/envs/Python36/lib/python3.6/site-packages (from requests->geocoder) (2.8)\nRequirement already satisfied: urllib3<1.25,>=1.21.1 in /opt/conda/envs/Python36/lib/python3.6/site-packages (from requests->geocoder) (1.24.1)\nRequirement already satisfied: certifi>=2017.4.17 in /opt/conda/envs/Python36/lib/python3.6/site-packages (from requests->geocoder) (2019.9.11)\nRequirement already satisfied: chardet<3.1.0,>=3.0.2 in /opt/conda/envs/Python36/lib/python3.6/site-packages (from requests->geocoder) (3.0.4)\n"
                }
            ], 
            "source": "!pip install geocoder\nimport geocoder as geocoder\ndef getLatLong(row):\n\n    # initialize your variable to None\n    ll = None\n    zipcode = '{}, CA'.format(row)\n    # loop until you get the coordinates\n    try:\n        while(ll is None):\n            g = geocoder.arcgis(zipcode)\n            ll = g.latlng\n            \n    except IndexError:\n        latitude = 0.0\n        longitude = 0.0\n        print('BACKUP')\n        return [latitude,longitude]\n\n    latitude = ll[0]\n    longitude = ll[1]\n    print(latitude, longitude)\n    return [latitude, longitude]"
        }, 
        {
            "execution_count": 28, 
            "cell_type": "code", 
            "metadata": {}, 
            "outputs": [
                {
                    "output_type": "stream", 
                    "name": "stdout", 
                    "text": "37.365997400000026 -122.15216969999994\n37.35705410000003 -122.09433159999998\n37.37551060000004 -122.2220754\n37.37722000000008 -122.08765499999998\n37.38798450000007 -122.07389959999995\n37.42026500000003 -122.07154499999996\n37.38884400000006 -122.01760199999995\n37.36964500000005 -122.01482499999997\n37.35219500000005 -122.03484999999995\n37.41770500000007 -122.02675999999997\n37.442270000000065 -122.15507999999994\n37.44054220000004 -122.11869479999996\n37.42360000000008 -122.17142499999994\n37.413275000000056 -122.13088999999997\n37.610697800000025 -121.67998579999994\n37.27898270000003 -121.95395579999996\n37.295937200000026 -122.08812719999997\n37.039315000000045 -121.54463999999996\n36.80712200000005 -121.36270299999995\n37.23017150000004 -122.0014473\n37.22758570000008 -121.94430699999998\n37.172609900000054 -121.94263419999999\n37.43960500000003 -121.88158999999996\n37.15815310000005 -121.64076269999998\n37.09702944700007 -121.57603748799994\n37.35652500000003 -121.95046499999995\n37.350932800000066 -121.9843325\n37.39601740000006 -121.96408829999996\n37.251961900000026 -122.05438669999995\n37.34598500000004 -121.90587\n37.28389500000003 -121.82449499999996\n37.34388000000007 -121.88270499999999\n37.33295500000003 -121.89205499999997\n37.34863500000006 -121.851565\n37.30949000000004 -121.96375261899999\n37.256596700000046 -121.88970869999997\n37.22393450000004 -121.78417299999995\n37.242605000000026 -121.87482999999997\n37.30385990000008 -121.80811559999995\n37.329480000000046 -121.84112499999998\n37.242090000000076 -121.83147499999995\n37.256674400000065 -121.9237915\n37.29849000000007 -121.89755499999995\n37.33091480000007 -121.91430239999994\n37.37523300000004 -121.82019079999998\n37.316880000000026 -121.93341499999997\n37.306692500000054 -122.00549009999997\n37.284215000000074 -121.98804999999999\n37.38686000000007 -121.89567999999997\n37.413356100000044 -121.82015999999999\n37.372615600000074 -121.85735509999995\n37.428351200000066 -121.94067669999998\n37.265144500000076 -121.67546299999998\n37.272322700000075 -121.85359049999994\n37.24784180000006 -121.75580849999994\n37.21953110000004 -121.76090069999998\n37.328715000000045 -121.78578999999996\n"
                }
            ], 
            "source": "coords_list = df_data['Zip Code'].apply(getLatLong).tolist()"
        }, 
        {
            "execution_count": null, 
            "cell_type": "code", 
            "metadata": {}, 
            "outputs": [], 
            "source": ""
        }
    ], 
    "metadata": {
        "kernelspec": {
            "display_name": "Python 3.6", 
            "name": "python3", 
            "language": "python"
        }, 
        "language_info": {
            "mimetype": "text/x-python", 
            "nbconvert_exporter": "python", 
            "version": "3.6.8", 
            "name": "python", 
            "file_extension": ".py", 
            "pygments_lexer": "ipython3", 
            "codemirror_mode": {
                "version": 3, 
                "name": "ipython"
            }
        }
    }, 
    "nbformat": 4
}